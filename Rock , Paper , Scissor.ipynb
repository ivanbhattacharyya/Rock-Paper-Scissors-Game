{
 "cells": [
  {
   "cell_type": "code",
   "execution_count": 1,
   "metadata": {},
   "outputs": [],
   "source": [
    "import random"
   ]
  },
  {
   "cell_type": "code",
   "execution_count": 20,
   "metadata": {},
   "outputs": [
    {
     "name": "stdout",
     "output_type": "stream",
     "text": [
      "'r' for rock , 'p' for paper , 's' for scissorr\n",
      "Your choice : r\n",
      "Computers choice : p\n",
      "You lose!\n"
     ]
    }
   ],
   "source": [
    "def play():\n",
    "    user = input(\"'r' for rock , 'p' for paper , 's' for scissor\")\n",
    "    computer = random.choice(['r' , 'p' , 's'])\n",
    "    print(f'Your choice : {user}')\n",
    "    print(f'Computers choice : {computer}')\n",
    "    \n",
    "    if (user == computer):\n",
    "        return(\"Its a tie\")\n",
    "    if is_win(user , computer):\n",
    "        return(\"You won!\")\n",
    "    \n",
    "    return(\"You lose!\")\n",
    "    #r>s s>p p>r\n",
    "def is_win(player , opponent):\n",
    "    if(player == 'r' and opponent == 's') or (player == 's' and opponent == 'p') or (player == 'p' and opponent == 'r'):\n",
    "        return True\n",
    "    \n",
    "print(play())\n",
    "            "
   ]
  },
  {
   "cell_type": "code",
   "execution_count": null,
   "metadata": {},
   "outputs": [],
   "source": []
  }
 ],
 "metadata": {
  "kernelspec": {
   "display_name": "Python 3",
   "language": "python",
   "name": "python3"
  },
  "language_info": {
   "codemirror_mode": {
    "name": "ipython",
    "version": 3
   },
   "file_extension": ".py",
   "mimetype": "text/x-python",
   "name": "python",
   "nbconvert_exporter": "python",
   "pygments_lexer": "ipython3",
   "version": "3.7.6"
  }
 },
 "nbformat": 4,
 "nbformat_minor": 4
}
